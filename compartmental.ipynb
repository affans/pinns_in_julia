{
 "cells": [
  {
   "cell_type": "code",
   "execution_count": null,
   "metadata": {},
   "outputs": [],
   "source": [
    "# This notebook implements the examples from Lagaris \n",
    "# [\"Lux\", \"NeuralPDE\", \"Zygote\", \"ModelingToolkit\", \"OrdinaryDiffEq\", \"LineSearches\", \"ProgressMeter\", \"Gnuplot\", \"Optimization\", \"OptimizationOptimJL\", \"OptimizationOptimisers\"]\n",
    "using Lux, NeuralPDE, Zygote\n",
    "using ModelingToolkit\n",
    "using ModelingToolkit: Interval\n",
    "using OrdinaryDiffEq\n",
    "using LineSearches\n",
    "using ProgressMeter\n",
    "using Gnuplot\n",
    "#gpexec(\"load '~/gpconfig.cfg'\")\n",
    "import Base.show # this is needed otherwise the next line just defines a new function in a new module\n",
    "show(io::IO, ::MIME\"text/html\", gp::Gnuplot.GPSession) = Gnuplot._show(io, gp, \"svg enhanced standalone mouse size 400,250\")\n",
    "Gnuplot.options.verbose = false;\n",
    "dump(Gnuplot.options) # print out the options\n",
    "\n",
    "# https://julialang.slack.com/archives/C690QRAA3/p1711534935292689\n",
    "# What is the relationship between Optimization.jl and Optimisers.jl?\n",
    "# Optimization.jl is an interface over a whole set of optimization packages. It's the level of DifferentialEquations.jl, NonlinearSolve.jl, LinearSolve.jl, interfacing to tons (>10?) optimization packages.\n",
    "# Optimisers.jl is a specific library of optimizers. Optimisers.jl is a specific library of optimizers.\n",
    "# Optimization.jl has a wrapper for using Optimisers.jl methods (OptimizationOptimisers.jl), and that's the most common way things are trained with SciML applications like Neural ODEs.\n",
    "# Optim.jl (OptimizationOptimJL.jl) is another Julia package implementing various algorithms to perform univariate and multivariate optimization\n",
    "using Optimization, OptimizationOptimJL, OptimizationOptimisers\n",
    "using Random, Statistics"
   ]
  },
  {
   "cell_type": "markdown",
   "metadata": {},
   "source": [
    "# SEIR Model \n",
    "We use PINNs to do forward simulation and parameter estimation of the SEIR model \n"
   ]
  }
 ],
 "metadata": {
  "language_info": {
   "name": "python"
  }
 },
 "nbformat": 4,
 "nbformat_minor": 2
}
