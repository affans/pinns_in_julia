{
 "cells": [
  {
   "cell_type": "markdown",
   "metadata": {},
   "source": [
    "## Solving the 1-d Wave equation using physics-informed-neural-networks \n",
    "\n",
    "Tutorial from https://github.com/Mustafa-Kaddoura/NeuralPDE/blob/main/Tutorial_PINN_WaveEquation_GuidedWorkFlow_Finished.jl#L70\n",
    "\n",
    "We will solve the 1d wave equation \n",
    "$$ \n",
    "\\frac{\\partial^2 u}{\\partial t^2} = c^2 \\frac{\\partial^2 u}{\\partial x^2}\n",
    "$$ \n",
    "subject to the Dirichlet boundary conditions\n",
    "$$\n",
    "\\begin{align*}\n",
    "u(0,t) &= u(1,t) = 0 \\\\\n",
    "u(x, t) &= x(1 - x) \\quad \\forall t > 0 \\\\\n",
    "\\frac{\\partial u}{\\partial t}(x, 0) &= 0 \\quad \\forall x \\in [0, 1]\n",
    "\\end{align*}\n",
    "$$"
   ]
  },
  {
   "cell_type": "code",
   "execution_count": 12,
   "metadata": {},
   "outputs": [],
   "source": [
    "using NeuralPDE, Lux, Optimization, OptimizationOptimJL\n",
    "using ModelingToolkit \n",
    "# import ModelingToolkit : Interval\n",
    "# use ModelingToolkit.Interval instead"
   ]
  },
  {
   "cell_type": "markdown",
   "metadata": {},
   "source": [
    "# STEP 1: DEFINE THE EQUATION (2D PDE)"
   ]
  },
  {
   "cell_type": "code",
   "execution_count": 6,
   "metadata": {},
   "outputs": [
    {
     "data": {
      "text/plain": [
       "(::Differential) (generic function with 3 methods)"
      ]
     },
     "metadata": {},
     "output_type": "display_data"
    }
   ],
   "source": [
    "# set up model parameters/variables -- uses ModelingToolkit\n",
    "@parameters t x \n",
    "@variables u(..)\n",
    "Dxx = Differential(x)^2\n",
    "Dtt = Differential(t)^2 \n",
    "Dt = Differential(t)"
   ]
  },
  {
   "cell_type": "code",
   "execution_count": 7,
   "metadata": {},
   "outputs": [
    {
     "data": {
      "text/latex": [
       "$$ \\begin{align}\n",
       "u\\left( t, 0 \\right) =& 0 \\\\\n",
       "u\\left( t, 1 \\right) =& 0 \\\\\n",
       "u\\left( 0, x \\right) =& x \\left( 1 - x \\right) \\\\\n",
       "\\frac{\\mathrm{d}}{\\mathrm{d}t} u\\left( 0, x \\right) =& 0\n",
       "\\end{align}\n",
       " $$"
      ],
      "text/plain": [
       "4-element Vector{Equation}:\n",
       " u(t, 0) ~ 0.0\n",
       " u(t, 1) ~ 0.0\n",
       " u(0, x) ~ x*(1.0 - x)\n",
       " Differential(t)(u(0, x)) ~ 0.0"
      ]
     },
     "metadata": {},
     "output_type": "display_data"
    }
   ],
   "source": [
    "# define the equations and IC/BC\n",
    "C = 1\n",
    "eq = Dtt(u(t, x)) ~ C^2 * Dxx(u(t, x))\n",
    "bcs = [u(t, 0) ~ 0.0, # for all t > 0 and x = 0\n",
    "       u(t, 1) ~ 0.0, # for all t > 0 and x = 1\n",
    "       u(0, x) ~ x*(1.0 - x), # for all x in [0, 1]\n",
    "       Dt(u(0, x)) ~ 0.0] # for all x in [0, 1]"
   ]
  },
  {
   "cell_type": "code",
   "execution_count": 9,
   "metadata": {},
   "outputs": [
    {
     "data": {
      "text/plain": [
       "0.1"
      ]
     },
     "metadata": {},
     "output_type": "display_data"
    }
   ],
   "source": [
    "# Time and Space and Domains\n",
    "domains = [t ∈ ModelingToolkit.Interval(0.0, 1.0),\n",
    "           x ∈ ModelingToolkit.Interval(0.0, 1.0)]\n",
    "\n",
    "# Discretization\n",
    "dx = 0.1"
   ]
  },
  {
   "cell_type": "code",
   "execution_count": 10,
   "metadata": {},
   "outputs": [
    {
     "data": {
      "text/latex": [
       "$$ \\begin{align}\n",
       "\\frac{\\mathrm{d}}{\\mathrm{d}t} \\frac{\\mathrm{d}}{\\mathrm{d}t} u\\left( t, x \\right) =& \\frac{\\mathrm{d}}{\\mathrm{d}x} \\frac{\\mathrm{d}}{\\mathrm{d}x} u\\left( t, x \\right)\n",
       "\\end{align}\n",
       " $$"
      ],
      "text/plain": [
       "PDESystem\n",
       "Equations: Equation[Differential(t)(Differential(t)(u(t, x))) ~ Differential(x)(Differential(x)(u(t, x)))]\n",
       "Boundary Conditions: Equation[u(t, 0) ~ 0.0, u(t, 1) ~ 0.0, u(0, x) ~ x*(1.0 - x), Differential(t)(u(0, x)) ~ 0.0]\n",
       "Domain: Symbolics.VarDomainPairing[Symbolics.VarDomainPairing(t, 0.0 .. 1.0), Symbolics.VarDomainPairing(x, 0.0 .. 1.0)]\n",
       "Dependent Variables: u(t, x)\n",
       "Independent Variables: Num[t, x]\n",
       "Parameters: SciMLBase.NullParameters()\n",
       "Default Parameter ValuesDict{Any, Any}()"
      ]
     },
     "metadata": {},
     "output_type": "display_data"
    }
   ],
   "source": [
    "# Define a PDE system\n",
    "indvar = [t,x]\n",
    "depvar = u(t,x)\n",
    "@named pde_system = PDESystem(eq, bcs, domains,indvar,depvar)"
   ]
  },
  {
   "cell_type": "markdown",
   "metadata": {},
   "source": [
    "------------------------------------------------\n",
    "# STEP 2: CHOOSE a NEURAL NETWORK ARCHITECTURE"
   ]
  },
  {
   "cell_type": "code",
   "execution_count": 19,
   "metadata": {},
   "outputs": [
    {
     "data": {
      "text/plain": [
       "Chain(\n",
       "    layer_1 = Dense(2 => 16, sigmoid_fast),  \u001b[90m# 48 parameters\u001b[39m\n",
       "    layer_2 = Dense(16 => 16, sigmoid_fast),  \u001b[90m# 272 parameters\u001b[39m\n",
       "    layer_3 = Dense(16 => 1),           \u001b[90m# 17 parameters\u001b[39m\n",
       ") \u001b[90m        # Total: \u001b[39m337 parameters,\n",
       "\u001b[90m          #        plus \u001b[39m0 states."
      ]
     },
     "metadata": {},
     "output_type": "display_data"
    },
    {
     "data": {
      "text/plain": [
       "PhysicsInformedNN{GridTraining{Float64}, Nothing, NeuralPDE.Phi{Chain{NamedTuple{(:layer_1, :layer_2, :layer_3), Tuple{Dense{true, typeof(sigmoid_fast), typeof(glorot_uniform), typeof(zeros32)}, Dense{true, typeof(sigmoid_fast), typeof(glorot_uniform), typeof(zeros32)}, Dense{true, typeof(identity), typeof(glorot_uniform), typeof(zeros32)}}}, Nothing}, NamedTuple{(:layer_1, :layer_2, :layer_3), Tuple{NamedTuple{(), Tuple{}}, NamedTuple{(), Tuple{}}, NamedTuple{(), Tuple{}}}}}, typeof(NeuralPDE.numeric_derivative), Bool, Nothing, Nothing, Nothing, Base.Pairs{Symbol, Union{}, Tuple{}, NamedTuple{(), Tuple{}}}}(Chain(), GridTraining{Float64}(0.1), nothing, NeuralPDE.Phi{Chain{NamedTuple{(:layer_1, :layer_2, :layer_3), Tuple{Dense{true, typeof(sigmoid_fast), typeof(glorot_uniform), typeof(zeros32)}, Dense{true, typeof(sigmoid_fast), typeof(glorot_uniform), typeof(zeros32)}, Dense{true, typeof(identity), typeof(glorot_uniform), typeof(zeros32)}}}, Nothing}, NamedTuple{(:layer_1, :layer_2, :layer_3), Tuple{NamedTuple{(), Tuple{}}, NamedTuple{(), Tuple{}}, NamedTuple{(), Tuple{}}}}}(Chain(), (layer_1 = NamedTuple(), layer_2 = NamedTuple(), layer_3 = NamedTuple())), NeuralPDE.numeric_derivative, false, nothing, nothing, nothing, LogOptions(50), [1], true, false, Base.Pairs{Symbol, Union{}, Tuple{}, NamedTuple{(), Tuple{}}}())"
      ]
     },
     "metadata": {},
     "output_type": "display_data"
    },
    {
     "data": {
      "text/plain": [
       "\u001b[38;2;86;182;194mOptimizationProblem\u001b[0m. In-place: \u001b[38;2;86;182;194mtrue\u001b[0m\n",
       "u0: \u001b[0mComponentVector{Float64}(layer_1 = (weight = [-0.3951249420642853 -0.35931530594825745; 0.38507020473480225 0.19643153250217438; … ; -0.441673219203949 -0.4893757700920105; -0.5357662439346313 -0.09209005534648895], bias = [0.0; 0.0; … ; 0.0; 0.0;;]), layer_2 = (weight = [-0.10293155163526535 0.08748529851436615 … -0.05611604079604149 -0.3545544445514679; 0.2209061086177826 0.26305022835731506 … -0.2563933730125427 -0.4019336998462677; … ; -0.3104294240474701 -0.3319527506828308 … -0.1949196308851242 0.22912701964378357; -0.35730013251304626 0.06772172451019287 … -0.29068589210510254 -0.014540646225214005], bias = [0.0; 0.0; … ; 0.0; 0.0;;]), layer_3 = (weight = [-0.38839301466941833 0.5047451257705688 … 0.2743741571903229 0.1821022778749466], bias = [0.0;;]))"
      ]
     },
     "metadata": {},
     "output_type": "display_data"
    }
   ],
   "source": [
    "\n",
    "# Number of dimensions\n",
    "dims = length(domains)\n",
    "\n",
    "# Number of inner nodes\n",
    "n = 16\n",
    "\n",
    "# Multilayer-layer perceptron (3 layers, sigmoid activation function)\n",
    "chain = Lux.Chain(Dense(dims, n, Lux.σ), Dense(n, n, Lux.σ), Dense(n, 1))\n",
    "display(chain) \n",
    "\n",
    "# Discretizer\n",
    "discretization = PhysicsInformedNN(chain, GridTraining(dx))\n",
    "display(discretization)\n",
    "\n",
    "# Convert the PDE system into an Optimization Problem using 'discretize'\n",
    "prob = discretize(pde_system, discretization)"
   ]
  },
  {
   "cell_type": "code",
   "execution_count": 22,
   "metadata": {},
   "outputs": [
    {
     "data": {
      "text/plain": [
       "#13 (generic function with 1 method)"
      ]
     },
     "metadata": {},
     "output_type": "display_data"
    }
   ],
   "source": [
    "#---\n",
    "# Call back function\n",
    "callback = function (p,l)\n",
    "    #println(\"Current loss is: $l\")\n",
    "    return false\n",
    "end\n"
   ]
  },
  {
   "cell_type": "markdown",
   "metadata": {},
   "source": [
    "# STEP 4: SOLVE OPTIMIZATION PROBLEM"
   ]
  },
  {
   "cell_type": "code",
   "execution_count": 23,
   "metadata": {},
   "outputs": [
    {
     "data": {
      "text/plain": [
       "u: \u001b[0mComponentVector{Float64}(layer_1 = (weight = [-1.838896524577054 -1.5441336882897496; 1.1963826520026686 1.8876113979955744; … ; -2.469418195070733 -2.4280343411627734; -1.6172291676087682 -1.0858700235305758], bias = [-1.2734725701979681; 2.4804323323558615; … ; -0.5135327758829323; -0.79796643035074;;]), layer_2 = (weight = [-1.1727387844044126 1.323354798921653 … 0.32018976359004536 -1.0301349812973914; 1.2526664628655948 -0.09568399368833186 … -1.4231335693680118 0.1476504604114746; … ; 0.328328651013151 0.06507974827672514 … 0.9960908673674814 0.637780047338786; 0.12548871474020307 0.023682664068447545 … -0.09584090920635482 0.35221174131299354], bias = [0.40030071383935956; 0.27484726067209253; … ; 1.0414073222304385; 0.34748721773653085;;]), layer_3 = (weight = [2.869336873314732 0.7868387973088713 … 0.5933328923606016 0.5621319187211921], bias = [-0.7418232464960857;;]))"
      ]
     },
     "metadata": {},
     "output_type": "display_data"
    },
    {
     "data": {
      "text/plain": [
       "NeuralPDE.Phi{Chain{NamedTuple{(:layer_1, :layer_2, :layer_3), Tuple{Dense{true, typeof(sigmoid_fast), typeof(glorot_uniform), typeof(zeros32)}, Dense{true, typeof(sigmoid_fast), typeof(glorot_uniform), typeof(zeros32)}, Dense{true, typeof(identity), typeof(glorot_uniform), typeof(zeros32)}}}, Nothing}, NamedTuple{(:layer_1, :layer_2, :layer_3), Tuple{NamedTuple{(), Tuple{}}, NamedTuple{(), Tuple{}}, NamedTuple{(), Tuple{}}}}}(Chain(), (layer_1 = NamedTuple(), layer_2 = NamedTuple(), layer_3 = NamedTuple()))"
      ]
     },
     "metadata": {},
     "output_type": "display_data"
    }
   ],
   "source": [
    "# Select an Optimizer: BFGS Algorithm\n",
    "opt = OptimizationOptimJL.BFGS()\n",
    "\n",
    "# Solve the Optimization Problem\n",
    "res = Optimization.solve(prob, opt; callback = callback, maxiters=1200)\n",
    "display(res)\n",
    "phi = discretization.phi"
   ]
  },
  {
   "cell_type": "markdown",
   "metadata": {},
   "source": [
    "# STEP 5: PLOTS "
   ]
  },
  {
   "cell_type": "code",
   "execution_count": 29,
   "metadata": {},
   "outputs": [
    {
     "data": {
      "text/plain": [
       "11×11 Matrix{Float64}:\n",
       " 0.00232569   0.0021576    0.00144421   …  0.000343975  0.000276621\n",
       " 0.00738056   0.00165589   0.00573464      0.00576845   0.0104885\n",
       " 0.0058406    0.0038045    0.0034712       0.00752421   0.00874511\n",
       " 0.000161547  0.000718332  0.00076676      0.00244872   0.0013943\n",
       " 0.00471032   0.00287198   0.00130281      0.00351425   0.00569933\n",
       " 0.00607078   0.00412726   0.00101275   …  0.00626007   0.00860393\n",
       " 0.00334938   0.00219088   0.00101481      0.00423569   0.00593637\n",
       " 0.00207916   0.00179137   0.000461211     0.00127142   0.000940861\n",
       " 0.00710188   0.00473752   0.00348565      0.00634001   0.00816306\n",
       " 0.00709255   0.00183433   0.00541525      0.00505471   0.00996455\n",
       " 0.00379469   0.00305817   0.00113884   …  0.000414798  0.000506861"
      ]
     },
     "metadata": {},
     "output_type": "display_data"
    }
   ],
   "source": [
    "using Gnuplot\n",
    "ts, xs = [infimum(d.domain):dx:supremum(d.domain) for d in domains]\n",
    "function analytic_sol_func(t, x)\n",
    "    sum([(8 / (k^3 * pi^3)) * sin(k * pi * x) * cos(C * k * pi * t) for k in 1:2:50000])\n",
    "end\n",
    "\n",
    "u_predict = reshape([first(phi([t, x], res.u)) for t in ts for x in xs],\n",
    "                    (length(ts), length(xs)))\n",
    "u_real = reshape([analytic_sol_func(t, x) for t in ts for x in xs],\n",
    "                 (length(ts), length(xs)))\n",
    "diff_u = abs.(u_predict .- u_real)"
   ]
  },
  {
   "cell_type": "code",
   "execution_count": 1,
   "metadata": {},
   "outputs": [],
   "source": [
    "## Plot the results."
   ]
  },
  {
   "cell_type": "code",
   "execution_count": 12,
   "metadata": {},
   "outputs": [
    {
     "data": {
      "text/plain": [
       "5.25328"
      ]
     },
     "metadata": {},
     "output_type": "display_data"
    }
   ],
   "source": [
    "# dice problem  # random problem I found on the internet    \n",
    "# A fair coin is tossed. If a head occurs, 1 die is rolled; if a tail occurs, 2 dice are rolled. Let Y be the total on the die or dice.\n",
    "function expdice() \n",
    "    N = 100000\n",
    "    _sum = 0 \n",
    "\n",
    "    for i in 1:N \n",
    "        d = rand()  \n",
    "        if d < 0.5 \n",
    "            _sum += rand(1:6) \n",
    "        else \n",
    "            _sum += rand(1:6) + rand(1:6) \n",
    "        end \n",
    "    end\n",
    "    return _sum / N \n",
    "end\n",
    "expdice()\n"
   ]
  }
 ],
 "metadata": {
  "kernelspec": {
   "display_name": "Julia 1.10.3",
   "language": "julia",
   "name": "julia-1.10"
  },
  "language_info": {
   "file_extension": ".jl",
   "mimetype": "application/julia",
   "name": "julia",
   "version": "1.10.3"
  },
  "orig_nbformat": 4
 },
 "nbformat": 4,
 "nbformat_minor": 2
}
